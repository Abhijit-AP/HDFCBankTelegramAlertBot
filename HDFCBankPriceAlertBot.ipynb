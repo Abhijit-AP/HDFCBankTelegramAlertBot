{
 "cells": [
  {
   "cell_type": "code",
   "execution_count": 1,
   "metadata": {},
   "outputs": [
    {
     "name": "stdout",
     "output_type": "stream",
     "text": [
      "{'info': {'symbol': 'HDFCBANK', 'companyName': 'HDFC Bank Limited', 'industry': 'BANKS', 'activeSeries': ['EQ'], 'debtSeries': [], 'tempSuspendedSeries': ['IL', 'W3'], 'isFNOSec': True, 'isCASec': False, 'isSLBSec': True, 'isDebtSec': False, 'isSuspended': False, 'isETFSec': False, 'isDelisted': False, 'isin': 'INE040A13013', 'isTop10': False, 'identifier': 'HDFCBANKEQN'}, 'metadata': {'series': 'EQ', 'symbol': 'HDFCBANK', 'isin': 'INE040A01034', 'status': 'Listed', 'listingDate': '08-Nov-1995', 'industry': 'Private Sector Bank', 'lastUpdateTime': '16-Feb-2024 16:00:00', 'pdSectorPe': 17.88, 'pdSymbolPe': 17.88, 'pdSectorInd': 'NIFTY BANK                                        '}, 'securityInfo': {'boardStatus': 'Main', 'tradingStatus': 'Active', 'tradingSegment': 'Normal Market', 'sessionNo': '-', 'slb': 'Yes', 'classOfShare': 'Equity', 'derivatives': 'Yes', 'surveillance': {'surv': None, 'desc': None}, 'faceValue': 1, 'issuedSize': 7595558100}, 'sddDetails': {'SDDAuditor': '-', 'SDDStatus': '-'}, 'priceInfo': {'lastPrice': 1417.05, 'change': 3, 'pChange': 0.21215657154980377, 'previousClose': 1414.05, 'open': 1423.9, 'close': 0, 'vwap': 1417.97, 'lowerCP': '1272.65', 'upperCP': '1555.45', 'pPriceBand': 'No Band', 'basePrice': 1414.05, 'intraDayHighLow': {'min': 1408.45, 'max': 1427.7, 'value': 1417.05}, 'weekHighLow': {'min': 1363.55, 'minDate': '14-Feb-2024', 'max': 1757.5, 'maxDate': '03-Jul-2023', 'value': 1417.05}, 'iNavValue': None, 'checkINAV': False}, 'industryInfo': {'macro': 'Financial Services', 'sector': 'Financial Services', 'industry': 'Banks', 'basicIndustry': 'Private Sector Bank'}, 'preOpenMarket': {'preopen': [{'price': 1272.65, 'buyQty': 0, 'sellQty': 82}, {'price': 1316, 'buyQty': 0, 'sellQty': 2}, {'price': 1320, 'buyQty': 0, 'sellQty': 3}, {'price': 1322, 'buyQty': 0, 'sellQty': 2}, {'price': 1423.9, 'buyQty': 0, 'sellQty': 0, 'iep': True}, {'price': 1555.3, 'buyQty': 1, 'sellQty': 0}, {'price': 1555.35, 'buyQty': 1, 'sellQty': 0}, {'price': 1555.4, 'buyQty': 1, 'sellQty': 0}, {'price': 1555.45, 'buyQty': 776, 'sellQty': 0}], 'ato': {'buy': 34073, 'sell': 3987}, 'IEP': 1423.9, 'totalTradedVolume': 182822, 'finalPrice': 1423.9, 'finalQuantity': 182847, 'lastUpdateTime': '16-Feb-2024 09:08:00', 'totalBuyQuantity': 482713, 'totalSellQuantity': 379060, 'atoBuyQty': 34073, 'atoSellQty': 3987, 'Change': 9.850000000000136, 'perChange': 0.6965807432551987, 'prevClose': 1414.05}}\n",
      "{'info': {'symbol': 'HDFCBANK', 'companyName': 'HDFC Bank Limited', 'industry': 'BANKS', 'activeSeries': ['EQ'], 'debtSeries': [], 'tempSuspendedSeries': ['IL', 'W3'], 'isFNOSec': True, 'isCASec': False, 'isSLBSec': True, 'isDebtSec': False, 'isSuspended': False, 'isETFSec': False, 'isDelisted': False, 'isin': 'INE040A13013', 'isTop10': False, 'identifier': 'HDFCBANKEQN'}, 'metadata': {'series': 'EQ', 'symbol': 'HDFCBANK', 'isin': 'INE040A01034', 'status': 'Listed', 'listingDate': '08-Nov-1995', 'industry': 'Private Sector Bank', 'lastUpdateTime': '16-Feb-2024 16:00:00', 'pdSectorPe': 17.88, 'pdSymbolPe': 17.88, 'pdSectorInd': 'NIFTY BANK                                        '}, 'securityInfo': {'boardStatus': 'Main', 'tradingStatus': 'Active', 'tradingSegment': 'Normal Market', 'sessionNo': '-', 'slb': 'Yes', 'classOfShare': 'Equity', 'derivatives': 'Yes', 'surveillance': {'surv': None, 'desc': None}, 'faceValue': 1, 'issuedSize': 7595558100}, 'sddDetails': {'SDDAuditor': '-', 'SDDStatus': '-'}, 'priceInfo': {'lastPrice': 1417.05, 'change': 3, 'pChange': 0.21215657154980377, 'previousClose': 1414.05, 'open': 1423.9, 'close': 0, 'vwap': 1417.97, 'lowerCP': '1272.65', 'upperCP': '1555.45', 'pPriceBand': 'No Band', 'basePrice': 1414.05, 'intraDayHighLow': {'min': 1408.45, 'max': 1427.7, 'value': 1417.05}, 'weekHighLow': {'min': 1363.55, 'minDate': '14-Feb-2024', 'max': 1757.5, 'maxDate': '03-Jul-2023', 'value': 1417.05}, 'iNavValue': None, 'checkINAV': False}, 'industryInfo': {'macro': 'Financial Services', 'sector': 'Financial Services', 'industry': 'Banks', 'basicIndustry': 'Private Sector Bank'}, 'preOpenMarket': {'preopen': [{'price': 1272.65, 'buyQty': 0, 'sellQty': 82}, {'price': 1316, 'buyQty': 0, 'sellQty': 2}, {'price': 1320, 'buyQty': 0, 'sellQty': 3}, {'price': 1322, 'buyQty': 0, 'sellQty': 2}, {'price': 1423.9, 'buyQty': 0, 'sellQty': 0, 'iep': True}, {'price': 1555.3, 'buyQty': 1, 'sellQty': 0}, {'price': 1555.35, 'buyQty': 1, 'sellQty': 0}, {'price': 1555.4, 'buyQty': 1, 'sellQty': 0}, {'price': 1555.45, 'buyQty': 776, 'sellQty': 0}], 'ato': {'buy': 34073, 'sell': 3987}, 'IEP': 1423.9, 'totalTradedVolume': 182822, 'finalPrice': 1423.9, 'finalQuantity': 182847, 'lastUpdateTime': '16-Feb-2024 09:08:00', 'totalBuyQuantity': 482713, 'totalSellQuantity': 379060, 'atoBuyQty': 34073, 'atoSellQty': 3987, 'Change': 9.850000000000136, 'perChange': 0.6965807432551987, 'prevClose': 1414.05}}\n"
     ]
    }
   ],
   "source": [
    "#Get alerts on HDFC Bank current price movement every 5 minutes on telegram\n",
    "#Calculated as points gained vs previous close and %Change\n",
    "\n",
    "#As a first step you will need to setup an telegram bot.\n",
    "#Here are the steps:\n",
    "# 1) Open telegram, and search for \"RawDataBot\"\n",
    "# 2) Type /start in the chat, and it will provide you your ID, which is a 10 dight numeric ID\n",
    "# 3) After noting down your ID, come out and search for another bot named \"BotFather\"\n",
    "    #Remember to choose the bot that is with a verified check for BotFather\n",
    "# 4) In the chat of the bot, type /newbot\n",
    "# 5) This will give you a message to type your personal bot's name\n",
    "# 6) You can type your name followed with an underscore and the word \"bot\"\n",
    "    #Example : yourname_bot\n",
    "# 7) It will provide you with an API key along with the message that your bot is created. Note down the API key\n",
    "# 8) Go to the bot you created and type /start\n",
    "# 9) Thats it, make sure to unmute your bot so every message you receive will popup on your phone in notifcation\n",
    "\n",
    "\n",
    "from nsepython import *\n",
    "import requests\n",
    "import time\n",
    "\n",
    "def teleMessage(message):\n",
    "    token = \"\" #Enter the API token you got from your bot in step #7\n",
    "    url = f\"https://api.telegram.org/bot{token}\"\n",
    "    params = {\"chat_id\": \"\" , \"text\": message} #In the quotes after chat_id, enter the ID you got in step #2\n",
    "    r = requests.get(url + \"/sendMessage\", params=params)\n",
    "\n",
    "#Function to get the latest price on HDFC Bank, you can change the script to get whatever stock price you want here\n",
    "def hdfc_lpt():\n",
    "    HDFCLTP = nse_eq(\"HDFCBANK\")['priceInfo']['lastPrice']\n",
    "    return HDFCLTP\n",
    "\n",
    "#Function to get previous close of HDFC Bank, you can change the script to get whatever stock price you want here\n",
    "HDFCPRE = nse_eq(\"HDFCBANK\")['priceInfo']['previousClose']\n",
    "\n",
    "i = 0\n",
    "\n",
    "#Loop to get the latest price of HDFC Bank (or whatever symbol you choose)\n",
    "#It will loop every 5 minutes for 72 times which covers 6 hours. \n",
    "#Message will be triggers in your telegram after this.\n",
    "while i < 72:\n",
    "    HDFCCP = hdfc_lpt()\n",
    "    HDFCGAIN = round((HDFCCP - HDFCPRE),2)\n",
    "    HDFCPERCNG = round((((HDFCCP - HDFCPRE)/HDFCPRE*100)), 2)\n",
    "    CP = round(HDFCCP, 2)\n",
    "    if HDFCGAIN < 0:\n",
    "        message = f\"HDFC Down by {HDFCGAIN}Rs, {HDFCPERCNG}%, CP: {CP}\"\n",
    "        #If you change the symbol, remember to alter the text here to that symbol\n",
    "    else:\n",
    "        message = f\"HDFC GAINED by +{HDFCGAIN} Rs, +{HDFCPERCNG}%, CP: {CP}\"\n",
    "        #If you change the symbol, remember to alter the text here to that symbol\n",
    "    teleMessage(message)\n",
    "    time.sleep(300)\n",
    "    i +=1"
   ]
  }
 ],
 "metadata": {
  "kernelspec": {
   "display_name": "Python 3",
   "language": "python",
   "name": "python3"
  },
  "language_info": {
   "codemirror_mode": {
    "name": "ipython",
    "version": 3
   },
   "file_extension": ".py",
   "mimetype": "text/x-python",
   "name": "python",
   "nbconvert_exporter": "python",
   "pygments_lexer": "ipython3",
   "version": "3.12.1"
  }
 },
 "nbformat": 4,
 "nbformat_minor": 2
}
